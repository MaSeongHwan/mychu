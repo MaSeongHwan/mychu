{
 "cells": [
  {
   "cell_type": "markdown",
   "id": "bd2b39a8",
   "metadata": {},
   "source": [
    "# 콘텐츠 검색 위젯 예제\n",
    "\n",
    "이 노트북에서는 VOD 추천 시스템의 콘텐츠 검색 기능을 사용하는 예제를 보여줍니다."
   ]
  },
  {
   "cell_type": "markdown",
   "id": "dae1a53e",
   "metadata": {},
   "source": [
    "## 필요한 라이브러리 임포트"
   ]
  },
  {
   "cell_type": "code",
   "execution_count": null,
   "id": "f1e74c12",
   "metadata": {},
   "outputs": [],
   "source": [
    "# 필요한 환경 설정\n",
    "import sys\n",
    "import os\n",
    "\n",
    "# 프로젝트 루트 디렉토리가 Python 경로에 있는지 확인\n",
    "project_root = os.path.abspath(os.path.join(os.getcwd(), '../..'))\n",
    "if project_root not in sys.path:\n",
    "    sys.path.append(project_root)\n",
    "\n",
    "# 필수 라이브러리\n",
    "import pandas as pd\n",
    "import ipywidgets as widgets\n",
    "from IPython.display import display, HTML"
   ]
  },
  {
   "cell_type": "markdown",
   "id": "64601799",
   "metadata": {},
   "source": [
    "## 1. 직접 검색 함수 호출하기"
   ]
  },
  {
   "cell_type": "code",
   "execution_count": null,
   "id": "3c11a9d3",
   "metadata": {},
   "outputs": [],
   "source": [
    "# 검색 함수 임포트\n",
    "from server.core.search_engine import main_search_assets, is_adult_search_assets, advanced_search_assets\n",
    "\n",
    "# 간단한 검색 예제\n",
    "results = main_search_assets(query=\"액션\")\n",
    "\n",
    "# 결과 확인\n",
    "print(f\"검색 결과: {len(results)}개 항목\")\n",
    "pd.DataFrame(results)"
   ]
  },
  {
   "cell_type": "markdown",
   "id": "7933e11e",
   "metadata": {},
   "source": [
    "## 2. 기본 검색 위젯 사용하기"
   ]
  },
  {
   "cell_type": "code",
   "execution_count": null,
   "id": "b7c0fe63",
   "metadata": {},
   "outputs": [],
   "source": [
    "# 사전에 만들어둔 검색 위젯 모듈 임포트\n",
    "from server.recommender.search_widgets import search_widget\n",
    "\n",
    "# 검색 위젯 표시\n",
    "text, output = search_widget()"
   ]
  },
  {
   "cell_type": "markdown",
   "id": "f28fcdd7",
   "metadata": {},
   "source": [
    "## 3. 고급 검색 위젯 사용하기"
   ]
  },
  {
   "cell_type": "code",
   "execution_count": null,
   "id": "56d6da00",
   "metadata": {},
   "outputs": [],
   "source": [
    "# 고급 검색 위젯 임포트\n",
    "from server.recommender.search_widgets import advanced_search_widget\n",
    "\n",
    "# 고급 검색 위젯 표시\n",
    "controls, output = advanced_search_widget()"
   ]
  },
  {
   "cell_type": "markdown",
   "id": "bf89d1f1",
   "metadata": {},
   "source": [
    "## 4. 간단한 커스텀 검색 위젯 만들기\n",
    "\n",
    "원하는 대로 직접 위젯을 구성할 수도 있습니다."
   ]
  },
  {
   "cell_type": "code",
   "execution_count": null,
   "id": "617e3ef9",
   "metadata": {},
   "outputs": [],
   "source": [
    "# 간단한 검색 위젯 직접 만들기\n",
    "text = widgets.Text(description='검색어:')\n",
    "output = widgets.Output()\n",
    "\n",
    "def main_on_submit(change):\n",
    "    if change.name != 'value':\n",
    "        return\n",
    "        \n",
    "    query = change.new\n",
    "    if not query:\n",
    "        return\n",
    "        \n",
    "    output.clear_output()\n",
    "    with output:\n",
    "        results = main_search_assets(query=query)\n",
    "        print(f\"'{query}' 검색 결과: {len(results)}개 항목\")\n",
    "        for r in results[:5]:  # 상위 5개만 출력\n",
    "            print(f\"- {r['asset_nm']} ({r.get('genre', '장르 없음')})\")\n",
    "\n",
    "text.observe(main_on_submit, names='value')\n",
    "display(text, output)"
   ]
  }
 ],
 "metadata": {
  "language_info": {
   "name": "python"
  }
 },
 "nbformat": 4,
 "nbformat_minor": 5
}
